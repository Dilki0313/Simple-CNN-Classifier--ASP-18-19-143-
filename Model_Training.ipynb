{
 "cells": [
  {
   "cell_type": "code",
   "execution_count": 21,
   "id": "db33b2c0-0aa0-4c83-b0b6-70f2cb1df526",
   "metadata": {},
   "outputs": [],
   "source": [
    "import tensorflow as tf"
   ]
  },
  {
   "cell_type": "code",
   "execution_count": 22,
   "id": "62da8ac5-68bd-4445-8131-b7e1be57dfb0",
   "metadata": {},
   "outputs": [],
   "source": [
    "from tensorflow.keras.models import Sequential\n",
    "from tensorflow.keras.layers import Conv2D, MaxPooling2D, Flatten, Dense, Dropout\n",
    "from tensorflow.keras.preprocessing.image import ImageDataGenerator\n",
    "from tensorflow.keras.callbacks import EarlyStopping\n",
    "import os"
   ]
  },
  {
   "cell_type": "code",
   "execution_count": 23,
   "id": "85a62b29-ecda-4e56-9825-3a6db348b9e3",
   "metadata": {},
   "outputs": [],
   "source": [
    "# Dataset Preparation\n",
    "train_data_dir = 'C:/Users/User/Desktop/IS Assignment 2/Dataset/Training'\n",
    "val_data_dir = 'C:/Users/User/Desktop/IS Assignment 2/Dataset/Validation'"
   ]
  },
  {
   "cell_type": "code",
   "execution_count": 24,
   "id": "221b9059-d478-4a01-b07c-837bd9b7ea81",
   "metadata": {},
   "outputs": [],
   "source": [
    "# Data augmentation\n",
    "train_datagen = ImageDataGenerator(rescale=1.0/255.0,\n",
    "                                   rotation_range=30,\n",
    "                                   width_shift_range=0.2,\n",
    "                                   height_shift_range=0.2,\n",
    "                                   shear_range=0.2,\n",
    "                                   zoom_range=0.2,\n",
    "                                   horizontal_flip=True,\n",
    "                                   fill_mode='nearest')\n",
    "\n",
    "val_datagen = ImageDataGenerator(rescale=1.0/255.0)"
   ]
  },
  {
   "cell_type": "code",
   "execution_count": 25,
   "id": "3b039002-5980-4c3f-836d-19fdb6f78c71",
   "metadata": {},
   "outputs": [
    {
     "name": "stdout",
     "output_type": "stream",
     "text": [
      "Found 15000 images belonging to 15 classes.\n",
      "Found 3000 images belonging to 15 classes.\n"
     ]
    }
   ],
   "source": [
    "train_generator = train_datagen.flow_from_directory(train_data_dir,\n",
    "                                                    target_size=(128, 128),\n",
    "                                                    batch_size=32,\n",
    "                                                    class_mode='categorical')\n",
    "\n",
    "val_generator = val_datagen.flow_from_directory(val_data_dir,\n",
    "                                                target_size=(128, 128),\n",
    "                                                batch_size=32,\n",
    "                                                class_mode='categorical')"
   ]
  },
  {
   "cell_type": "code",
   "execution_count": 26,
   "id": "0c1e9980-6df0-46f6-a933-fed2d401bb26",
   "metadata": {},
   "outputs": [],
   "source": [
    "# Model Architecture\n",
    "model = Sequential([\n",
    "    Conv2D(32, (3, 3), activation='relu', input_shape=(128, 128, 3)),\n",
    "    MaxPooling2D((2, 2)),\n",
    "    Conv2D(64, (3, 3), activation='relu'),\n",
    "    MaxPooling2D((2, 2)),\n",
    "    Conv2D(128, (3, 3), activation='relu'),\n",
    "    MaxPooling2D((2, 2)),\n",
    "    Flatten(),\n",
    "    Dense(128, activation='relu'),\n",
    "    Dropout(0.5),\n",
    "    Dense(len(train_generator.class_indices), activation='softmax')\n",
    "])"
   ]
  },
  {
   "cell_type": "code",
   "execution_count": 27,
   "id": "3d74f7d4-fcf9-41de-9136-994f29b358ef",
   "metadata": {},
   "outputs": [],
   "source": [
    "# Compile the model\n",
    "model.compile(optimizer='adam',\n",
    "              loss='categorical_crossentropy',\n",
    "              metrics=['accuracy'])"
   ]
  },
  {
   "cell_type": "code",
   "execution_count": 28,
   "id": "966855ad-ece6-44f3-bcc3-1f02d7e45070",
   "metadata": {},
   "outputs": [],
   "source": [
    "# Early stopping\n",
    "early_stopping = EarlyStopping(monitor='val_loss', patience=5, restore_best_weights=True)"
   ]
  },
  {
   "cell_type": "code",
   "execution_count": 29,
   "id": "23111ccb-0147-411e-81cc-9f0852c1cd08",
   "metadata": {},
   "outputs": [
    {
     "name": "stdout",
     "output_type": "stream",
     "text": [
      "Epoch 1/20\n",
      "469/469 [==============================] - 186s 395ms/step - loss: 1.9011 - accuracy: 0.3541 - val_loss: 1.1153 - val_accuracy: 0.6280\n",
      "Epoch 2/20\n",
      "469/469 [==============================] - 200s 427ms/step - loss: 1.2257 - accuracy: 0.5838 - val_loss: 0.8238 - val_accuracy: 0.7310\n",
      "Epoch 3/20\n",
      "469/469 [==============================] - 202s 431ms/step - loss: 0.9797 - accuracy: 0.6721 - val_loss: 0.7353 - val_accuracy: 0.7473\n",
      "Epoch 4/20\n",
      "469/469 [==============================] - 199s 424ms/step - loss: 0.8329 - accuracy: 0.7246 - val_loss: 0.5227 - val_accuracy: 0.8330\n",
      "Epoch 5/20\n",
      "469/469 [==============================] - 201s 429ms/step - loss: 0.7484 - accuracy: 0.7551 - val_loss: 0.3940 - val_accuracy: 0.8843\n",
      "Epoch 6/20\n",
      "469/469 [==============================] - 202s 430ms/step - loss: 0.6828 - accuracy: 0.7763 - val_loss: 0.3083 - val_accuracy: 0.9133\n",
      "Epoch 7/20\n",
      "469/469 [==============================] - 199s 424ms/step - loss: 0.6127 - accuracy: 0.8000 - val_loss: 0.4263 - val_accuracy: 0.8563\n",
      "Epoch 8/20\n",
      "469/469 [==============================] - 201s 428ms/step - loss: 0.5532 - accuracy: 0.8169 - val_loss: 0.2690 - val_accuracy: 0.9247\n",
      "Epoch 9/20\n",
      "469/469 [==============================] - 200s 425ms/step - loss: 0.5142 - accuracy: 0.8336 - val_loss: 0.4747 - val_accuracy: 0.8517\n",
      "Epoch 10/20\n",
      "469/469 [==============================] - 199s 425ms/step - loss: 0.4732 - accuracy: 0.8498 - val_loss: 0.2085 - val_accuracy: 0.9377\n",
      "Epoch 11/20\n",
      "469/469 [==============================] - 196s 418ms/step - loss: 0.4360 - accuracy: 0.8629 - val_loss: 0.2333 - val_accuracy: 0.9347\n",
      "Epoch 12/20\n",
      "469/469 [==============================] - 205s 437ms/step - loss: 0.4181 - accuracy: 0.8718 - val_loss: 0.1786 - val_accuracy: 0.9547\n",
      "Epoch 13/20\n",
      "469/469 [==============================] - 201s 428ms/step - loss: 0.4020 - accuracy: 0.8740 - val_loss: 0.2069 - val_accuracy: 0.9403\n",
      "Epoch 14/20\n",
      "469/469 [==============================] - 200s 426ms/step - loss: 0.3844 - accuracy: 0.8804 - val_loss: 0.2027 - val_accuracy: 0.9417\n",
      "Epoch 15/20\n",
      "469/469 [==============================] - 202s 431ms/step - loss: 0.3570 - accuracy: 0.8886 - val_loss: 0.1706 - val_accuracy: 0.9540\n",
      "Epoch 16/20\n",
      "469/469 [==============================] - 202s 430ms/step - loss: 0.3299 - accuracy: 0.8969 - val_loss: 0.2288 - val_accuracy: 0.9287\n",
      "Epoch 17/20\n",
      "469/469 [==============================] - 202s 430ms/step - loss: 0.3192 - accuracy: 0.9008 - val_loss: 0.1527 - val_accuracy: 0.9593\n",
      "Epoch 18/20\n",
      "469/469 [==============================] - 201s 427ms/step - loss: 0.3235 - accuracy: 0.9010 - val_loss: 0.2853 - val_accuracy: 0.9087\n",
      "Epoch 19/20\n",
      "469/469 [==============================] - 200s 426ms/step - loss: 0.3038 - accuracy: 0.9056 - val_loss: 0.1698 - val_accuracy: 0.9517\n",
      "Epoch 20/20\n",
      "469/469 [==============================] - 198s 421ms/step - loss: 0.2912 - accuracy: 0.9090 - val_loss: 0.1223 - val_accuracy: 0.9640\n"
     ]
    }
   ],
   "source": [
    "# Train the model\n",
    "history = model.fit(train_generator,\n",
    "                    epochs=20,\n",
    "                    validation_data=val_generator,\n",
    "                    callbacks=[early_stopping])"
   ]
  },
  {
   "cell_type": "code",
   "execution_count": 30,
   "id": "a0cee36d-250b-4480-93af-cc6839f61e0c",
   "metadata": {},
   "outputs": [],
   "source": [
    "# Save the model\n",
    "model.save('simple_cnn_model.h5')"
   ]
  }
 ],
 "metadata": {
  "kernelspec": {
   "display_name": "Python 3 (ipykernel)",
   "language": "python",
   "name": "python3"
  },
  "language_info": {
   "codemirror_mode": {
    "name": "ipython",
    "version": 3
   },
   "file_extension": ".py",
   "mimetype": "text/x-python",
   "name": "python",
   "nbconvert_exporter": "python",
   "pygments_lexer": "ipython3",
   "version": "3.10.9"
  }
 },
 "nbformat": 4,
 "nbformat_minor": 5
}
